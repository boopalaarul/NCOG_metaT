{
 "cells": [
  {
   "cell_type": "markdown",
   "id": "c54dbcab",
   "metadata": {},
   "source": [
    "**NOAA CalCOFI Genomics (NCOG) MetaT - Filtering ORFs belonging to Mixoplankton & ALDEX Experiment Design**\n",
    "\n",
    "Definition of mixoplankton, [Mitra et al 2023](https://onlinelibrary.wiley.com/doi/10.1111/jeu.12972?s=03): eukaryotes that can perform\n",
    "- photoautotrophy through constitutive (native to cell) photosynthetic machinery or machinery acquired from prey \n",
    "- osmoheterotrophy (taking in nutrients dissolved solution including necessary carbon)\n",
    "- phagotrophy (taking in machinery and material from prey cells, by variety of feeding methods-- engulfing whole cells, sticking a feeding tube into them, lysing them with toxic metabolites)\n",
    "\n",
    "Input files for analysis: \n",
    "- **orf_taxo_mft files from data/totalRNA/ and data/polyA/**\n",
    "    - Can see how these files were created with scp & python script in data/ folder.\n",
    "- **env metadata file -- need this for splits over samples**\n",
    "    - NOTE THAT \n",
    "\n",
    "This notebook does:\n",
    "- **Distributions of orf taxo mft table: what classes of organisms present, in what proportions?**\n",
    "- Creating new subset tables in line with experiment design\n",
    "- Creating new experiment design subtables:\n",
    "    - Row select from orfhits abundance table based on \"is this sample part of experiment or not\" (did we actually have to do this? check code.)\n",
    "    - Column select from orfhits abundance table based on \"is this ORF part of experiment or not\""
   ]
  },
  {
   "cell_type": "code",
   "execution_count": 2,
   "id": "4878fbfa",
   "metadata": {},
   "outputs": [],
   "source": [
    "import pandas as pd\n",
    "orf_taxo_mft_total = pd.read_csv(\"../data/totalRNA/orf_taxo_mft.tsv\", sep = \"\\t\", index_col = 0)\n",
    "orf_taxo_mft_polyA = pd.read_csv(\"../data/polyA/orf_taxo_mft.tsv\", sep = \"\\t\", index_col = 0)"
   ]
  },
  {
   "cell_type": "code",
   "execution_count": 3,
   "id": "04406ef1",
   "metadata": {},
   "outputs": [],
   "source": [
    "import matplotlib.pyplot as plt\n",
    "%matplotlib inline"
   ]
  },
  {
   "cell_type": "code",
   "execution_count": 4,
   "id": "cfda7483",
   "metadata": {},
   "outputs": [
    {
     "data": {
      "text/html": [
       "<div>\n",
       "<style scoped>\n",
       "    .dataframe tbody tr th:only-of-type {\n",
       "        vertical-align: middle;\n",
       "    }\n",
       "\n",
       "    .dataframe tbody tr th {\n",
       "        vertical-align: top;\n",
       "    }\n",
       "\n",
       "    .dataframe thead th {\n",
       "        text-align: right;\n",
       "    }\n",
       "</style>\n",
       "<table border=\"1\" class=\"dataframe\">\n",
       "  <thead>\n",
       "    <tr style=\"text-align: right;\">\n",
       "      <th></th>\n",
       "      <th>LPI_taxonomy</th>\n",
       "      <th>most_specific_name</th>\n",
       "      <th>MFT</th>\n",
       "    </tr>\n",
       "    <tr>\n",
       "      <th>ORFID</th>\n",
       "      <th></th>\n",
       "      <th></th>\n",
       "      <th></th>\n",
       "    </tr>\n",
       "  </thead>\n",
       "  <tbody>\n",
       "    <tr>\n",
       "      <th>contig_1000023_1_765_+</th>\n",
       "      <td>Eukaryota;Alveolata;Dinoflagellata;Dinophyceae...</td>\n",
       "      <td>Lingulodinium_polyedra</td>\n",
       "      <td>CM</td>\n",
       "    </tr>\n",
       "    <tr>\n",
       "      <th>contig_1000075_283_834_-</th>\n",
       "      <td>Eukaryota;Alveolata;Dinoflagellata;Dinophyceae...</td>\n",
       "      <td>Gonyaulax_spinifera</td>\n",
       "      <td>CM</td>\n",
       "    </tr>\n",
       "    <tr>\n",
       "      <th>contig_1000084_83_955_-</th>\n",
       "      <td>Eukaryota;Alveolata;Dinoflagellata;Dinophyceae...</td>\n",
       "      <td>Gonyaulax_spinifera</td>\n",
       "      <td>CM</td>\n",
       "    </tr>\n",
       "    <tr>\n",
       "      <th>contig_1000086_1_198_-</th>\n",
       "      <td>Eukaryota;Alveolata;Dinoflagellata;Dinophyceae...</td>\n",
       "      <td>Gonyaulax_spinifera</td>\n",
       "      <td>CM</td>\n",
       "    </tr>\n",
       "    <tr>\n",
       "      <th>contig_100012_350_1123_+</th>\n",
       "      <td>Eukaryota;Alveolata;Dinoflagellata;Dinophyceae...</td>\n",
       "      <td>Gymnodinium_catenatum</td>\n",
       "      <td>CM</td>\n",
       "    </tr>\n",
       "    <tr>\n",
       "      <th>...</th>\n",
       "      <td>...</td>\n",
       "      <td>...</td>\n",
       "      <td>...</td>\n",
       "    </tr>\n",
       "    <tr>\n",
       "      <th>contig_999836_1_276_+</th>\n",
       "      <td>Eukaryota;Alveolata;Dinoflagellata;Dinophyceae...</td>\n",
       "      <td>Tripos_fusus</td>\n",
       "      <td>CM</td>\n",
       "    </tr>\n",
       "    <tr>\n",
       "      <th>contig_999839_3_1073_+</th>\n",
       "      <td>Eukaryota;Alveolata;Dinoflagellata;Dinophyceae...</td>\n",
       "      <td>Protoceratium_reticulatum</td>\n",
       "      <td>CM</td>\n",
       "    </tr>\n",
       "    <tr>\n",
       "      <th>contig_999891_1_612_+</th>\n",
       "      <td>Eukaryota;Alveolata;Dinoflagellata;Dinophyceae...</td>\n",
       "      <td>Symbiodinium_sp</td>\n",
       "      <td>CM</td>\n",
       "    </tr>\n",
       "    <tr>\n",
       "      <th>contig_999899_1_1167_+</th>\n",
       "      <td>Eukaryota;Alveolata;Dinoflagellata;Dinophyceae...</td>\n",
       "      <td>Symbiodinium_sp</td>\n",
       "      <td>CM</td>\n",
       "    </tr>\n",
       "    <tr>\n",
       "      <th>contig_99991_1_291_-</th>\n",
       "      <td>Eukaryota;Alveolata;Dinoflagellata;Dinophyceae...</td>\n",
       "      <td>Heterocapsa_rotundata</td>\n",
       "      <td>CM</td>\n",
       "    </tr>\n",
       "  </tbody>\n",
       "</table>\n",
       "<p>105144 rows × 3 columns</p>\n",
       "</div>"
      ],
      "text/plain": [
       "                                                               LPI_taxonomy  \\\n",
       "ORFID                                                                         \n",
       "contig_1000023_1_765_+    Eukaryota;Alveolata;Dinoflagellata;Dinophyceae...   \n",
       "contig_1000075_283_834_-  Eukaryota;Alveolata;Dinoflagellata;Dinophyceae...   \n",
       "contig_1000084_83_955_-   Eukaryota;Alveolata;Dinoflagellata;Dinophyceae...   \n",
       "contig_1000086_1_198_-    Eukaryota;Alveolata;Dinoflagellata;Dinophyceae...   \n",
       "contig_100012_350_1123_+  Eukaryota;Alveolata;Dinoflagellata;Dinophyceae...   \n",
       "...                                                                     ...   \n",
       "contig_999836_1_276_+     Eukaryota;Alveolata;Dinoflagellata;Dinophyceae...   \n",
       "contig_999839_3_1073_+    Eukaryota;Alveolata;Dinoflagellata;Dinophyceae...   \n",
       "contig_999891_1_612_+     Eukaryota;Alveolata;Dinoflagellata;Dinophyceae...   \n",
       "contig_999899_1_1167_+    Eukaryota;Alveolata;Dinoflagellata;Dinophyceae...   \n",
       "contig_99991_1_291_-      Eukaryota;Alveolata;Dinoflagellata;Dinophyceae...   \n",
       "\n",
       "                                 most_specific_name MFT  \n",
       "ORFID                                                    \n",
       "contig_1000023_1_765_+       Lingulodinium_polyedra  CM  \n",
       "contig_1000075_283_834_-        Gonyaulax_spinifera  CM  \n",
       "contig_1000084_83_955_-         Gonyaulax_spinifera  CM  \n",
       "contig_1000086_1_198_-          Gonyaulax_spinifera  CM  \n",
       "contig_100012_350_1123_+      Gymnodinium_catenatum  CM  \n",
       "...                                             ...  ..  \n",
       "contig_999836_1_276_+                  Tripos_fusus  CM  \n",
       "contig_999839_3_1073_+    Protoceratium_reticulatum  CM  \n",
       "contig_999891_1_612_+               Symbiodinium_sp  CM  \n",
       "contig_999899_1_1167_+              Symbiodinium_sp  CM  \n",
       "contig_99991_1_291_-          Heterocapsa_rotundata  CM  \n",
       "\n",
       "[105144 rows x 3 columns]"
      ]
     },
     "execution_count": 4,
     "metadata": {},
     "output_type": "execute_result"
    }
   ],
   "source": [
    "orf_taxo_mft_polyA.loc[orf_taxo_mft_polyA.apply(\n",
    "    lambda row: row[\"MFT\"] == \"CM\" and \"Dinoflagellata\" in row[\"LPI_taxonomy\"], axis = 1\n",
    ")]"
   ]
  },
  {
   "cell_type": "code",
   "execution_count": 5,
   "id": "a0c64ade-ea0f-42c0-8f45-dd0dc5e6c968",
   "metadata": {},
   "outputs": [],
   "source": [
    "##These are the old pr2 system. There's no \"TSAR\" supergroup category.\n",
    "class_level = 3\n",
    "class_labels_polyA = orf_taxo_mft_polyA[\"LPI_taxonomy\"].apply(lambda x: x.split(\";\")[:class_level][-1]).unique()\n",
    "class_label_counts_polyA = pd.Series([0] * len(class_labels_polyA), index = class_labels_polyA)\n",
    "\n",
    "class_labels_total = orf_taxo_mft_total[\"LPI_taxonomy\"].apply(lambda x: x.split(\";\")[:class_level][-1]).unique()\n",
    "class_label_counts_total = pd.Series([0] * len(class_labels_total), index = class_labels_total)\n",
    "\n",
    "#go through and fill tallies, can barh (y = index, width = value)\n",
    "for taxon in orf_taxo_mft_polyA[\"LPI_taxonomy\"]:\n",
    "    label = taxon.split(\";\")[:class_level][-1]\n",
    "    class_label_counts_polyA[label] += 1\n",
    "for taxon in orf_taxo_mft_total[\"LPI_taxonomy\"]:\n",
    "    label = taxon.split(\";\")[:class_level][-1]\n",
    "    class_label_counts_total[label] += 1"
   ]
  },
  {
   "cell_type": "code",
   "execution_count": 6,
   "id": "ac8e6891-1e3b-4628-ab58-541a1a46acdf",
   "metadata": {},
   "outputs": [],
   "source": [
    "class_label_counts_polyA = class_label_counts_polyA.sort_values(ascending = False)\n",
    "class_label_counts_total = class_label_counts_total.sort_values(ascending = False)"
   ]
  },
  {
   "cell_type": "code",
   "execution_count": 7,
   "id": "e374c76f-4f08-4a91-874f-2f9d73624c0a",
   "metadata": {},
   "outputs": [
    {
     "data": {
      "image/png": "[encoded data removed]",
      "text/plain": [
       "<Figure size 1200x800 with 2 Axes>"
      ]
     },
     "metadata": {},
     "output_type": "display_data"
    }
   ],
   "source": [
    "fig, ax = plt.subplots(1,2)\n",
    "fig.set_figheight(8)\n",
    "fig.set_figwidth(12)\n",
    "top_x = 30\n",
    "ax[0].bar(x=class_label_counts_polyA.index[:top_x], height = class_label_counts_polyA[:top_x])\n",
    "ax[1].bar(x=class_label_counts_total.index[:top_x], height = class_label_counts_total[:top_x])\n",
    "ax[0].tick_params(axis='x', labelrotation=90)\n",
    "ax[1].tick_params(axis='x', labelrotation=90)\n",
    "plt.show()"
   ]
  },
  {
   "cell_type": "markdown",
   "id": "b0a1229b",
   "metadata": {},
   "source": [
    "**CM distribution of ORF counts**\n",
    "\n",
    "will likely confirm that dinos have the most transcripts."
   ]
  },
  {
   "cell_type": "code",
   "execution_count": 8,
   "id": "969cd2f5",
   "metadata": {},
   "outputs": [],
   "source": [
    "CM_class_labels_polyA = orf_taxo_mft_polyA.loc[orf_taxo_mft_polyA[\"MFT\"] == \"CM\", \"LPI_taxonomy\"].apply(\n",
    "    lambda x: x.split(\";\")[:class_level][-1]\n",
    ").unique()\n",
    "CM_class_labels_total = orf_taxo_mft_total.loc[orf_taxo_mft_total[\"MFT\"] == \"CM\", \"LPI_taxonomy\"].apply(\n",
    "    lambda x: x.split(\";\")[:class_level][-1]\n",
    ").unique()\n",
    "CM_class_counts_polyA = pd.Series([0] * len(CM_class_labels_polyA), index = CM_class_labels_polyA)\n",
    "CM_class_counts_total = pd.Series([0] * len(CM_class_labels_total), index = CM_class_labels_total)\n",
    "for taxon in orf_taxo_mft_polyA.loc[orf_taxo_mft_polyA[\"MFT\"] == \"CM\", \"LPI_taxonomy\"]:\n",
    "    label = taxon.split(\";\")[:class_level][-1]\n",
    "    CM_class_counts_polyA[label] += 1\n",
    "for taxon in orf_taxo_mft_total.loc[orf_taxo_mft_total[\"MFT\"] == \"CM\", \"LPI_taxonomy\"]:\n",
    "    label = taxon.split(\";\")[:class_level][-1]\n",
    "    CM_class_counts_total[label] += 1\n",
    "\n",
    "CM_class_counts_polyA = CM_class_counts_polyA.sort_values(ascending = False)\n",
    "CM_class_counts_total = CM_class_counts_total.sort_values(ascending = False)"
   ]
  },
  {
   "cell_type": "code",
   "execution_count": 9,
   "id": "637f947e-ec52-429c-a5a4-30e998b1e081",
   "metadata": {},
   "outputs": [
    {
     "data": {
      "image/png": "[encoded data removed]",
      "text/plain": [
       "<Figure size 1200x800 with 2 Axes>"
      ]
     },
     "metadata": {},
     "output_type": "display_data"
    }
   ],
   "source": [
    "fig, ax = plt.subplots(1,2)\n",
    "fig.set_figheight(8)\n",
    "fig.set_figwidth(12)\n",
    "top_x = 30\n",
    "ax[0].bar(x=CM_class_counts_polyA.index[:top_x], height = CM_class_counts_polyA[:top_x])\n",
    "ax[1].bar(x=CM_class_counts_total.index[:top_x], height = CM_class_counts_total[:top_x])\n",
    "ax[0].tick_params(axis='x', labelrotation=90)\n",
    "ax[1].tick_params(axis='x', labelrotation=90)\n",
    "plt.show()"
   ]
  },
  {
   "cell_type": "markdown",
   "id": "022f4103-159b-41cb-ae70-2a8172c691f4",
   "metadata": {},
   "source": [
    "### Making Subtables\n",
    "\n",
    "Aldex2, probably DESeq2 as well, should have only the features and samples that they need.\n",
    "Subset each table by ORFs."
   ]
  },
  {
   "cell_type": "code",
   "execution_count": 10,
   "id": "205a6a60-63fc-4a02-8f00-879756ea4220",
   "metadata": {},
   "outputs": [],
   "source": [
    "def replace_names(code):\n",
    "    print(code.replace(\"polyA\", \"total\"))"
   ]
  },
  {
   "cell_type": "code",
   "execution_count": 11,
   "id": "a2bc5da1",
   "metadata": {},
   "outputs": [],
   "source": [
    "CM_orf_taxo_mft_polyA = orf_taxo_mft_polyA[orf_taxo_mft_polyA[\"MFT\"] == \"CM\"]\n",
    "all_CM_orfs_polyA = set(CM_orf_taxo_mft_polyA.index)\n",
    "dino_CM_orfs_polyA = set(CM_orf_taxo_mft_polyA[CM_orf_taxo_mft_polyA[\"LPI_taxonomy\"].str.contains(\"Dinoflagellata\")].index)\n",
    "hapto_CM_orfs_polyA = set(CM_orf_taxo_mft_polyA[CM_orf_taxo_mft_polyA[\"LPI_taxonomy\"].str.contains(\"Haptophyta\")].index)"
   ]
  },
  {
   "cell_type": "code",
   "execution_count": 12,
   "id": "982a0881-b160-4cea-8af0-b4e88635b9cc",
   "metadata": {},
   "outputs": [],
   "source": [
    "CM_orf_taxo_mft_total = orf_taxo_mft_total[orf_taxo_mft_total[\"MFT\"] == \"CM\"]\n",
    "all_CM_orfs_total = set(CM_orf_taxo_mft_total.index)\n",
    "dino_CM_orfs_total = set(CM_orf_taxo_mft_total[CM_orf_taxo_mft_total[\"LPI_taxonomy\"].str.contains(\"Dinoflagellata\")].index)\n",
    "hapto_CM_orfs_total = set(CM_orf_taxo_mft_total[CM_orf_taxo_mft_total[\"LPI_taxonomy\"].str.contains(\"Haptophyta\")].index)"
   ]
  },
  {
   "cell_type": "code",
   "execution_count": 13,
   "id": "79fed1c1",
   "metadata": {},
   "outputs": [],
   "source": [
    "#search_species(\"Eukaryota;Archaeplastida;Chlorophyta;Nephroselmidophyceae;Nephroselmidophyceae_X;Nephroselmidaceae;Nephroselmis;Nephroselmis pyriformis, Strain CCMP717\", debug = True)\n",
    "#search_species(\"Eukaryota;Stramenopiles;Stramenopiles_X;Bacillariophyta;Bacillariophyta_X;Polar-centric-Mediophyceae;Thalassiosira;Thalassiosira oceanica CCMP1005\", debug = True)\n",
    "#search_species(\"Eukaryota;Opisthokonta;Metazoa;Arthropoda;Hexapoda;Insecta;Acyrthosiphon;Acyrthosiphon pisum\", debug = True)\n",
    "#search_species(\"Eukaryota;Hacrobia;Haptophyta;Prymnesiophyceae;Isochrysidales;Noelaerhabdaceae;Emiliania;Emiliania huxleyi 374\", debug=True)\n",
    "#search_species(\"Eukaryota;Hacrobia;Haptophyta;Prymnesiophyceae;Isochrysidales;Noelaerhabdaceae;Emiliania;Emiliania huxleyi CCMP1516\", debug=True)\n",
    "#search_species(\"Eukaryota;Hacrobia;Haptophyta;Prymnesiophyceae;Isochrysidales;Noelaerhabdaceae;Emiliania;Emiliania huxleyi CCMP370\", debug=True)\n",
    "#search_species(\"Eukaryota;Hacrobia;Haptophyta;Prymnesiophyceae;Phaeocystales;Phaeocystaceae;Phaeocystis;Phaeocystis antarctica, Strain CCMP1374\", debug=True)"
   ]
  },
  {
   "cell_type": "code",
   "execution_count": 27,
   "id": "58f408a4-1a05-4d3d-a3ca-97def9f64096",
   "metadata": {},
   "outputs": [
    {
     "data": {
      "text/plain": [
       "(False, False)"
      ]
     },
     "execution_count": 27,
     "metadata": {},
     "output_type": "execute_result"
    }
   ],
   "source": [
    "#matching sequences not identified by strain anymore in the new pipeline...\n",
    "#mixotrophy predictions or assignments are sometimes made on this basis.\n",
    "orf_taxo_mft_total[\"LPI_taxonomy\"].str.contains(\"Strain\").any(),\\\n",
    "orf_taxo_mft_polyA[\"LPI_taxonomy\"].str.contains(\"Strain\").any()"
   ]
  },
  {
   "cell_type": "code",
   "execution_count": 14,
   "id": "ac52bed2",
   "metadata": {},
   "outputs": [],
   "source": [
    "import os\n",
    "totalRNA_path = os.path.abspath(\"../data/totalRNA/\")\n",
    "polyA_path = os.path.abspath(\"../data/polyA/\")\n",
    "\n",
    "def generate_subtable(infile_path, outfile_path, orf_set):\n",
    "    with open(infile_path, \"r\") as infile:\n",
    "        with open(outfile_path, \"w\") as outfile:\n",
    "            #transfer the first line's column labels to outfile\n",
    "            outfile.write(infile.readline())\n",
    "            ### infile.readlines() UNPACKS THE ITERATOR! will crash if file too big\n",
    "            for line in infile: \n",
    "                terms = line.split(\"\\t\")\n",
    "                orf_id = terms[0]\n",
    "                if orf_id in orf_set:\n",
    "                    outfile.write(line)"
   ]
  },
  {
   "cell_type": "code",
   "execution_count": 29,
   "id": "90439683",
   "metadata": {},
   "outputs": [],
   "source": [
    "#can use this method to generate both types of subtables.\n",
    "\n",
    "generate_subtable(\n",
    "    os.path.join(totalRNA_path, \"NCOG-totalRNA-annotations.tsv\"), \n",
    "    os.path.join(totalRNA_path, \"subtables\", \"all_CM_annotations.tsv\"),\n",
    "    all_CM_orfs_total\n",
    ")\n",
    "\n",
    "generate_subtable(\n",
    "    os.path.join(totalRNA_path, \"NCOG-totalRNA-annotations.tsv\"), \n",
    "    os.path.join(totalRNA_path, \"subtables\", \"dino_CM_annotations.tsv\"),\n",
    "    dino_CM_orfs_total\n",
    ")\n",
    "\n",
    "generate_subtable(\n",
    "    os.path.join(totalRNA_path, \"NCOG-totalRNA-annotations.tsv\"), \n",
    "    os.path.join(totalRNA_path, \"subtables\", \"hapto_CM_annotations.tsv\"),\n",
    "    hapto_CM_orfs_total\n",
    ")"
   ]
  },
  {
   "cell_type": "code",
   "execution_count": 28,
   "id": "ed194821-1807-491f-be02-2ea7e76dfb02",
   "metadata": {},
   "outputs": [],
   "source": [
    "generate_subtable(\n",
    "    os.path.join(totalRNA_path, \"annotation_all.filtered.orfhits.tab\"), \n",
    "    os.path.join(totalRNA_path, \"subtables\", \"all_CM_orfhits.tsv\"),\n",
    "    all_CM_orfs_total\n",
    ")\n",
    "\n",
    "generate_subtable(\n",
    "    os.path.join(totalRNA_path, \"annotation_all.filtered.orfhits.tab\"), \n",
    "    os.path.join(totalRNA_path, \"subtables\", \"dino_CM_orfhits.tsv\"),\n",
    "    dino_CM_orfs_total\n",
    ")\n",
    "\n",
    "generate_subtable(\n",
    "    os.path.join(totalRNA_path, \"annotation_all.filtered.orfhits.tab\"), \n",
    "    os.path.join(totalRNA_path, \"subtables\", \"hapto_CM_orfhits.tsv\"),\n",
    "    hapto_CM_orfs_total\n",
    ")"
   ]
  },
  {
   "cell_type": "code",
   "execution_count": 21,
   "id": "e48943e5-2fb2-44ac-8d57-e4a272c2fedf",
   "metadata": {},
   "outputs": [],
   "source": [
    "generate_subtable(\n",
    "    os.path.join(polyA_path, \"NCOG-polyA-annotations.tsv\"), \n",
    "    os.path.join(polyA_path, \"subtables\", \"all_CM_annotations.tsv\"),\n",
    "    all_CM_orfs_polyA\n",
    ")\n",
    "\n",
    "generate_subtable(\n",
    "    os.path.join(polyA_path, \"NCOG-polyA-annotations.tsv\"), \n",
    "    os.path.join(polyA_path, \"subtables\", \"dino_CM_annotations.tsv\"),\n",
    "    dino_CM_orfs_polyA\n",
    ")\n",
    "\n",
    "generate_subtable(\n",
    "    os.path.join(polyA_path, \"NCOG-polyA-annotations.tsv\"), \n",
    "    os.path.join(polyA_path, \"subtables\", \"hapto_CM_annotations.tsv\"),\n",
    "    hapto_CM_orfs_polyA\n",
    ")"
   ]
  },
  {
   "cell_type": "code",
   "execution_count": 23,
   "id": "69f3b207-8d6d-41bc-aeb4-91932a94560c",
   "metadata": {},
   "outputs": [],
   "source": [
    "generate_subtable(\n",
    "    os.path.join(polyA_path, \"annotation_all.filtered.orfhits.tab\"), \n",
    "    os.path.join(polyA_path, \"subtables\", \"all_CM_orfhits.tsv\"),\n",
    "    all_CM_orfs_polyA\n",
    ")\n",
    "\n",
    "generate_subtable(\n",
    "    os.path.join(polyA_path, \"annotation_all.filtered.orfhits.tab\"), \n",
    "    os.path.join(polyA_path, \"subtables\", \"dino_CM_orfhits.tsv\"),\n",
    "    dino_CM_orfs_polyA\n",
    ")\n",
    "\n",
    "generate_subtable(\n",
    "    os.path.join(polyA_path, \"annotation_all.filtered.orfhits.tab\"), \n",
    "    os.path.join(polyA_path, \"subtables\", \"hapto_CM_orfhits.tsv\"),\n",
    "    hapto_CM_orfs_polyA\n",
    ")"
   ]
  },
  {
   "cell_type": "code",
   "execution_count": 20,
   "id": "7666aae1",
   "metadata": {},
   "outputs": [
    {
     "name": "stdout",
     "output_type": "stream",
     "text": [
      "336962 ../data/totalRNA/subtables/all_CM_annotations.tsv\n",
      "240359 ../data/totalRNA/subtables/all_CM_orfhits.tsv\n"
     ]
    }
   ],
   "source": [
    "%%bash\n",
    "#filter may account for differences in size -- 100k of the mixo orfs already taken out for some reason\n",
    "wc -l ../data/totalRNA/subtables/all_CM_annotations.tsv\n",
    "wc -l ../data/totalRNA/subtables/all_CM_orfhits.tsv"
   ]
  },
  {
   "cell_type": "code",
   "execution_count": 18,
   "id": "d6b75a6f-d924-4231-a1a6-4c2208ee0d53",
   "metadata": {},
   "outputs": [
    {
     "name": "stdout",
     "output_type": "stream",
     "text": [
      "7267714 ../data/totalRNA/annotation_all.filtered.orfhits.tab\n",
      "6943959 ../data/totalRNA/NCOG-totalRNA-annotations.tsv\n"
     ]
    }
   ],
   "source": [
    "%%bash\n",
    "wc -l ../data/totalRNA/annotation_all.filtered.orfhits.tab\n",
    "wc -l ../data/totalRNA/NCOG-totalRNA-annotations.tsv"
   ]
  },
  {
   "cell_type": "code",
   "execution_count": 24,
   "id": "f5a9ef24",
   "metadata": {},
   "outputs": [
    {
     "data": {
      "text/plain": [
       "(336961, 206405, 58046)"
      ]
     },
     "execution_count": 24,
     "metadata": {},
     "output_type": "execute_result"
    }
   ],
   "source": [
    "len(all_CM_orfs_total), len(dino_CM_orfs_total), len(hapto_CM_orfs_total)"
   ]
  },
  {
   "cell_type": "code",
   "execution_count": 25,
   "id": "befb1f6e-4352-4290-8a68-e5dd95cec8f6",
   "metadata": {},
   "outputs": [
    {
     "data": {
      "text/plain": [
       "(301533, 105144, 132526)"
      ]
     },
     "execution_count": 25,
     "metadata": {},
     "output_type": "execute_result"
    }
   ],
   "source": [
    "len(all_CM_orfs_polyA), len(dino_CM_orfs_polyA), len(hapto_CM_orfs_polyA)"
   ]
  },
  {
   "cell_type": "markdown",
   "id": "8218ea79-3f2c-4128-97fd-111d02e18fac",
   "metadata": {},
   "source": [
    "### Experiment design: choosing admissible samples & splitting factors.\n",
    "\n",
    "Should I still throw out shallow samples? Interesting bimodal distribution of diversity over depth w/ dino CMs, a second peak in the deep."
   ]
  },
  {
   "cell_type": "code",
   "execution_count": 34,
   "id": "d4ada141-0dd4-43bf-8f59-d27fc7bd2acb",
   "metadata": {},
   "outputs": [
    {
     "data": {
      "text/plain": [
       "Index(['sample_number', 'Cruise', 'Event', 'Order_Occ', 'Sta_ID', 'line',\n",
       "       'station', 'Cast_Type', 'Cardinal_Sta', 'Station_Notes', 'Bottle',\n",
       "       'Assoc_Bottle', 'Depthm', 'Bottle_Notes', 'NCOG_DNA', 'NCOG_RNA',\n",
       "       'DNA_VolFilt', 'RNA_VolFilt', 'Pump_Speed', 'DNA_RNA_Vol_Notes',\n",
       "       'Filt_Str', 'Filt_End', 'Date', 'Time', 'DateTime', 'Lat_Dec',\n",
       "       'Lon_Dec', 'Distance', 'NoCCSamples', 'DelDepth', 'CC_Depth', 'T_degC',\n",
       "       'Salnty', 'STheta', 'O2ml_L', 'PO4ug', 'SiO3ug', 'NO3ug', 'NH3ug',\n",
       "       'ChlorA', 'Phaeop', 'RecInd', 'Code_CCE', 'IntChl', 'IntC14',\n",
       "       'MLD_Sigma', 'NCDepth', 'Spike1', 'Spike8', 'depth_category',\n",
       "       'sample_number_polyA'],\n",
       "      dtype='object')"
      ]
     },
     "execution_count": 34,
     "metadata": {},
     "output_type": "execute_result"
    }
   ],
   "source": [
    "env_metadata = pd.read_csv(\"../data/NCOG_sample_log_RNA_metadata.tsv\", sep = \"\\t\", index_col = 0)\n",
    "env_metadata[\"sample_number_polyA\"] = env_metadata[\"sample_number\"] + \"_R1\" #Run 1???\n",
    "env_metadata.columns"
   ]
  },
  {
   "cell_type": "code",
   "execution_count": 40,
   "id": "419e83d0-ef4a-4d69-9897-9a9a5cae38d9",
   "metadata": {},
   "outputs": [
    {
     "data": {
      "text/html": [
       "<div>\n",
       "<style scoped>\n",
       "    .dataframe tbody tr th:only-of-type {\n",
       "        vertical-align: middle;\n",
       "    }\n",
       "\n",
       "    .dataframe tbody tr th {\n",
       "        vertical-align: top;\n",
       "    }\n",
       "\n",
       "    .dataframe thead th {\n",
       "        text-align: right;\n",
       "    }\n",
       "</style>\n",
       "<table border=\"1\" class=\"dataframe\">\n",
       "  <thead>\n",
       "    <tr style=\"text-align: right;\">\n",
       "      <th></th>\n",
       "      <th>NO3ug</th>\n",
       "      <th>NH3ug</th>\n",
       "      <th>DIN</th>\n",
       "    </tr>\n",
       "    <tr>\n",
       "      <th>Sample.Name</th>\n",
       "      <th></th>\n",
       "      <th></th>\n",
       "      <th></th>\n",
       "    </tr>\n",
       "  </thead>\n",
       "  <tbody>\n",
       "    <tr>\n",
       "      <th>201402_090.0_110.0_63</th>\n",
       "      <td>0.000000</td>\n",
       "      <td>0.05</td>\n",
       "      <td>0.050000</td>\n",
       "    </tr>\n",
       "    <tr>\n",
       "      <th>201402_090.0_110.0_20</th>\n",
       "      <td>0.000000</td>\n",
       "      <td>0.04</td>\n",
       "      <td>0.040000</td>\n",
       "    </tr>\n",
       "    <tr>\n",
       "      <th>201402_090.0_080.0_30</th>\n",
       "      <td>0.200000</td>\n",
       "      <td>0.14</td>\n",
       "      <td>0.340000</td>\n",
       "    </tr>\n",
       "    <tr>\n",
       "      <th>201402_090.0_080.0_10</th>\n",
       "      <td>0.200000</td>\n",
       "      <td>0.13</td>\n",
       "      <td>0.330000</td>\n",
       "    </tr>\n",
       "    <tr>\n",
       "      <th>201404_090.0_100.0_11</th>\n",
       "      <td>0.100000</td>\n",
       "      <td>0.28</td>\n",
       "      <td>0.380000</td>\n",
       "    </tr>\n",
       "    <tr>\n",
       "      <th>...</th>\n",
       "      <td>...</td>\n",
       "      <td>...</td>\n",
       "      <td>...</td>\n",
       "    </tr>\n",
       "    <tr>\n",
       "      <th>202010_090.0_037.0_515</th>\n",
       "      <td>39.700001</td>\n",
       "      <td>NaN</td>\n",
       "      <td>39.700001</td>\n",
       "    </tr>\n",
       "    <tr>\n",
       "      <th>202010_080.0_070.0_10</th>\n",
       "      <td>0.000000</td>\n",
       "      <td>NaN</td>\n",
       "      <td>0.000000</td>\n",
       "    </tr>\n",
       "    <tr>\n",
       "      <th>202010_080.0_070.0_40</th>\n",
       "      <td>3.690000</td>\n",
       "      <td>NaN</td>\n",
       "      <td>3.690000</td>\n",
       "    </tr>\n",
       "    <tr>\n",
       "      <th>202010_080.0_070.0_200</th>\n",
       "      <td>28.549999</td>\n",
       "      <td>NaN</td>\n",
       "      <td>28.549999</td>\n",
       "    </tr>\n",
       "    <tr>\n",
       "      <th>202010_080.0_070.0_515</th>\n",
       "      <td>41.509998</td>\n",
       "      <td>NaN</td>\n",
       "      <td>41.509998</td>\n",
       "    </tr>\n",
       "  </tbody>\n",
       "</table>\n",
       "<p>558 rows × 3 columns</p>\n",
       "</div>"
      ],
      "text/plain": [
       "                            NO3ug  NH3ug        DIN\n",
       "Sample.Name                                        \n",
       "201402_090.0_110.0_63    0.000000   0.05   0.050000\n",
       "201402_090.0_110.0_20    0.000000   0.04   0.040000\n",
       "201402_090.0_080.0_30    0.200000   0.14   0.340000\n",
       "201402_090.0_080.0_10    0.200000   0.13   0.330000\n",
       "201404_090.0_100.0_11    0.100000   0.28   0.380000\n",
       "...                           ...    ...        ...\n",
       "202010_090.0_037.0_515  39.700001    NaN  39.700001\n",
       "202010_080.0_070.0_10    0.000000    NaN   0.000000\n",
       "202010_080.0_070.0_40    3.690000    NaN   3.690000\n",
       "202010_080.0_070.0_200  28.549999    NaN  28.549999\n",
       "202010_080.0_070.0_515  41.509998    NaN  41.509998\n",
       "\n",
       "[558 rows x 3 columns]"
      ]
     },
     "execution_count": 40,
     "metadata": {},
     "output_type": "execute_result"
    }
   ],
   "source": [
    "import numpy as np\n",
    "def add_cols(row):\n",
    "    if np.isnan(row.iloc[0]) and np.isnan(row.iloc[1]):\n",
    "        return np.nan\n",
    "    elif np.isnan(row.iloc[0]):\n",
    "        return row.iloc[1]\n",
    "    elif np.isnan(row.iloc[1]):\n",
    "        return row.iloc[0]\n",
    "    return sum(row)\n",
    "    \n",
    "env_metadata[\"DIN\"] = env_metadata[[\"NO3ug\", \"NH3ug\"]].apply(add_cols, axis = 1)\n",
    "env_metadata[[\"NO3ug\", \"NH3ug\", \"DIN\"]]"
   ]
  },
  {
   "cell_type": "code",
   "execution_count": 1,
   "id": "f9975210-f2fa-405a-a92c-18077eb3550b",
   "metadata": {},
   "outputs": [
    {
     "ename": "NameError",
     "evalue": "name 'env_metadata' is not defined",
     "output_type": "error",
     "traceback": [
      "\u001b[0;31m---------------------------------------------------------------------------\u001b[0m",
      "\u001b[0;31mNameError\u001b[0m                                 Traceback (most recent call last)",
      "Cell \u001b[0;32mIn[1], line 1\u001b[0m\n\u001b[0;32m----> 1\u001b[0m shallow_samples \u001b[38;5;241m=\u001b[39m \u001b[43menv_metadata\u001b[49m\u001b[38;5;241m.\u001b[39mloc[env_metadata[\u001b[38;5;124m\"\u001b[39m\u001b[38;5;124mdepth_category\u001b[39m\u001b[38;5;124m\"\u001b[39m] \u001b[38;5;241m==\u001b[39m \u001b[38;5;124m\"\u001b[39m\u001b[38;5;124mSurface\u001b[39m\u001b[38;5;124m\"\u001b[39m]\n\u001b[1;32m      2\u001b[0m median_temp \u001b[38;5;241m=\u001b[39m np\u001b[38;5;241m.\u001b[39mmedian(shallow_samples[\u001b[38;5;124m\"\u001b[39m\u001b[38;5;124mT_degC\u001b[39m\u001b[38;5;124m\"\u001b[39m])\n\u001b[1;32m      3\u001b[0m median_DIN \u001b[38;5;241m=\u001b[39m np\u001b[38;5;241m.\u001b[39mmedian(shallow_samples[\u001b[38;5;124m\"\u001b[39m\u001b[38;5;124mDIN\u001b[39m\u001b[38;5;124m\"\u001b[39m]\u001b[38;5;241m.\u001b[39mdropna())\n",
      "\u001b[0;31mNameError\u001b[0m: name 'env_metadata' is not defined"
     ]
    }
   ],
   "source": [
    "shallow_samples = env_metadata.loc[env_metadata[\"depth_category\"] == \"Surface\"]\n",
    "median_temp = np.median(shallow_samples[\"T_degC\"])\n",
    "median_DIN = np.median(shallow_samples[\"DIN\"].dropna())\n",
    "\n",
    "def assign_factor(value, median):\n",
    "    assert(not np.isnan(value)) # should have dropped NA from column this is being applied over\n",
    "    return \"A\" if value < median else \"B\"\n",
    "\n",
    "#create new input series\n",
    "temp_factor_total = shallow_samples[\"T_degC\"].rename(index = shallow_samples[\"sample_number\"], name = \"conditions\").dropna().apply(\n",
    "    assign_factor, median = median_temp\n",
    ")\n",
    "DIN_factor_total = shallow_samples[\"DIN\"].rename(index = shallow_samples[\"sample_number\"], name = \"conditions\").dropna().apply(\n",
    "    assign_factor, median = median_DIN\n",
    ")\n",
    "temp_factor_polyA = shallow_samples[\"T_degC\"].rename(index = shallow_samples[\"sample_number_polyA\"], name = \"conditions\").dropna().apply(\n",
    "    assign_factor, median = median_temp\n",
    ")\n",
    "DIN_factor_polyA = shallow_samples[\"DIN\"].rename(index = shallow_samples[\"sample_number_polyA\"], name = \"conditions\").dropna().apply(\n",
    "    assign_factor, median = median_DIN\n",
    ")"
   ]
  },
  {
   "cell_type": "code",
   "execution_count": 2,
   "id": "4cf42075-670e-4562-bb54-22d9d3fcf706",
   "metadata": {},
   "outputs": [
    {
     "ename": "NameError",
     "evalue": "name 'temp_factor_polyA' is not defined",
     "output_type": "error",
     "traceback": [
      "\u001b[0;31m---------------------------------------------------------------------------\u001b[0m",
      "\u001b[0;31mNameError\u001b[0m                                 Traceback (most recent call last)",
      "Cell \u001b[0;32mIn[2], line 1\u001b[0m\n\u001b[0;32m----> 1\u001b[0m \u001b[43mtemp_factor_polyA\u001b[49m\u001b[38;5;241m.\u001b[39mto_csv(\u001b[38;5;124m\"\u001b[39m\u001b[38;5;124mtemp_polyA/expdesign.tsv\u001b[39m\u001b[38;5;124m\"\u001b[39m, sep \u001b[38;5;241m=\u001b[39m \u001b[38;5;124m\"\u001b[39m\u001b[38;5;130;01m\\t\u001b[39;00m\u001b[38;5;124m\"\u001b[39m)\u001b[38;5;66;03m#, header=False)\u001b[39;00m\n\u001b[1;32m      2\u001b[0m temp_factor_total\u001b[38;5;241m.\u001b[39mto_csv(\u001b[38;5;124m\"\u001b[39m\u001b[38;5;124mtemp_totalRNA/expdesign.tsv\u001b[39m\u001b[38;5;124m\"\u001b[39m, sep \u001b[38;5;241m=\u001b[39m \u001b[38;5;124m\"\u001b[39m\u001b[38;5;130;01m\\t\u001b[39;00m\u001b[38;5;124m\"\u001b[39m)\u001b[38;5;66;03m#, header=False)\u001b[39;00m\n\u001b[1;32m      3\u001b[0m DIN_factor_polyA\u001b[38;5;241m.\u001b[39mto_csv(\u001b[38;5;124m\"\u001b[39m\u001b[38;5;124mDIN_polyA/expdesign.tsv\u001b[39m\u001b[38;5;124m\"\u001b[39m, sep \u001b[38;5;241m=\u001b[39m \u001b[38;5;124m\"\u001b[39m\u001b[38;5;130;01m\\t\u001b[39;00m\u001b[38;5;124m\"\u001b[39m)\u001b[38;5;66;03m#, header=False)\u001b[39;00m\n",
      "\u001b[0;31mNameError\u001b[0m: name 'temp_factor_polyA' is not defined"
     ]
    }
   ],
   "source": [
    "temp_factor_polyA.to_csv(\"temp_polyA/expdesign.tsv\", sep = \"\\t\")#, header=False)\n",
    "temp_factor_total.to_csv(\"temp_totalRNA/expdesign.tsv\", sep = \"\\t\")#, header=False)\n",
    "DIN_factor_polyA.to_csv(\"DIN_polyA/expdesign.tsv\", sep = \"\\t\")#, header=False)\n",
    "DIN_factor_total.to_csv(\"DIN_totalRNA/expdesign.tsv\", sep = \"\\t\")#, header=False)"
   ]
  },
  {
   "cell_type": "code",
   "execution_count": null,
   "id": "abf75889-2d95-494c-9737-23ed497f4494",
   "metadata": {},
   "outputs": [],
   "source": []
  }
 ],
 "metadata": {
  "kernelspec": {
   "display_name": "Python 3 (ipykernel)",
   "language": "python",
   "name": "python3"
  },
  "language_info": {
   "codemirror_mode": {
    "name": "ipython",
    "version": 3
   },
   "file_extension": ".py",
   "mimetype": "text/x-python",
   "name": "python",
   "nbconvert_exporter": "python",
   "pygments_lexer": "ipython3",
   "version": "3.9.18"
  }
 },
 "nbformat": 4,
 "nbformat_minor": 5
}
