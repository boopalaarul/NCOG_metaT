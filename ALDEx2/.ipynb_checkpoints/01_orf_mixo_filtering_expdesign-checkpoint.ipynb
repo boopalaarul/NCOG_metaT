{
 "cells": [
  {
   "cell_type": "markdown",
   "id": "c54dbcab",
   "metadata": {},
   "source": [
    "**NOAA CalCOFI Genomics (NCOG) MetaT - Filtering ORFs belonging to Mixoplankton**\n",
    "\n",
    "Definition of mixoplankton, [Mitra et al 2023](https://onlinelibrary.wiley.com/doi/10.1111/jeu.12972?s=03): eukaryotes that can perform\n",
    "- photoautotrophy through constitutive (native to cell) photosynthetic machinery or machinery acquired from prey \n",
    "- osmoheterotrophy (taking in nutrients dissolved solution including necessary carbon)\n",
    "- phagotrophy (taking in machinery and material from prey cells, by variety of feeding methods-- engulfing whole cells, sticking a feeding tube into them, lysing them with toxic metabolites)\n",
    "\n",
    "Input files for analysis: \n",
    "- **orf_taxo_mft files from data/totalRNA/ and data/polyA/**\n",
    "    - Can see how these files were created with scp & python script in data/ folder.\n",
    "- **env metadata file -- need this for splits over samples**\n",
    "    - NOTE THAT \n",
    "\n",
    "This notebook does:\n",
    "- **Distributions of orf taxo mft table: what classes of organisms present, in what proportions?**\n",
    "- Creating new subset tables in line with experiment design\n",
    "- Creating new experiment design subtables:\n",
    "    - Row select from orfhits abundance table based on \"is this sample part of experiment or not\" (did we actually have to do this? check code.)\n",
    "    - Column select from orfhits abundance table based on \"is this ORF part of experiment or not\""
   ]
  },
  {
   "cell_type": "code",
   "execution_count": 5,
   "id": "4878fbfa",
   "metadata": {},
   "outputs": [],
   "source": [
    "import pandas as pd\n",
    "orf_taxo_mft_total = pd.read_csv(\"../data/totalRNA/orf_taxo_mft.tsv\", sep = \"\\t\", index_col = 0)\n",
    "orf_taxo_mft_polyA = pd.read_csv(\"../data/polyA/orf_taxo_mft.tsv\", sep = \"\\t\", index_col = 0)"
   ]
  },
  {
   "cell_type": "code",
   "execution_count": null,
   "id": "04406ef1",
   "metadata": {},
   "outputs": [],
   "source": [
    "import matplotlib.pyplot as plt\n",
    "%matplotlib inline"
   ]
  },
  {
   "cell_type": "code",
   "execution_count": 6,
   "id": "cfda7483",
   "metadata": {},
   "outputs": [
    {
     "data": {
      "text/html": [
       "<div>\n",
       "<style scoped>\n",
       "    .dataframe tbody tr th:only-of-type {\n",
       "        vertical-align: middle;\n",
       "    }\n",
       "\n",
       "    .dataframe tbody tr th {\n",
       "        vertical-align: top;\n",
       "    }\n",
       "\n",
       "    .dataframe thead th {\n",
       "        text-align: right;\n",
       "    }\n",
       "</style>\n",
       "<table border=\"1\" class=\"dataframe\">\n",
       "  <thead>\n",
       "    <tr style=\"text-align: right;\">\n",
       "      <th></th>\n",
       "      <th>LPI_taxonomy</th>\n",
       "      <th>most_specific_name</th>\n",
       "      <th>MFT</th>\n",
       "    </tr>\n",
       "    <tr>\n",
       "      <th>ORFID</th>\n",
       "      <th></th>\n",
       "      <th></th>\n",
       "      <th></th>\n",
       "    </tr>\n",
       "  </thead>\n",
       "  <tbody>\n",
       "    <tr>\n",
       "      <th>contig_1000023_1_765_+</th>\n",
       "      <td>Eukaryota;Alveolata;Dinoflagellata;Dinophyceae...</td>\n",
       "      <td>Lingulodinium_polyedra</td>\n",
       "      <td>CM</td>\n",
       "    </tr>\n",
       "    <tr>\n",
       "      <th>contig_1000075_283_834_-</th>\n",
       "      <td>Eukaryota;Alveolata;Dinoflagellata;Dinophyceae...</td>\n",
       "      <td>Gonyaulax_spinifera</td>\n",
       "      <td>CM</td>\n",
       "    </tr>\n",
       "    <tr>\n",
       "      <th>contig_1000084_83_955_-</th>\n",
       "      <td>Eukaryota;Alveolata;Dinoflagellata;Dinophyceae...</td>\n",
       "      <td>Gonyaulax_spinifera</td>\n",
       "      <td>CM</td>\n",
       "    </tr>\n",
       "    <tr>\n",
       "      <th>contig_1000086_1_198_-</th>\n",
       "      <td>Eukaryota;Alveolata;Dinoflagellata;Dinophyceae...</td>\n",
       "      <td>Gonyaulax_spinifera</td>\n",
       "      <td>CM</td>\n",
       "    </tr>\n",
       "    <tr>\n",
       "      <th>contig_100012_350_1123_+</th>\n",
       "      <td>Eukaryota;Alveolata;Dinoflagellata;Dinophyceae...</td>\n",
       "      <td>Gymnodinium_catenatum</td>\n",
       "      <td>CM</td>\n",
       "    </tr>\n",
       "    <tr>\n",
       "      <th>...</th>\n",
       "      <td>...</td>\n",
       "      <td>...</td>\n",
       "      <td>...</td>\n",
       "    </tr>\n",
       "    <tr>\n",
       "      <th>contig_999836_1_276_+</th>\n",
       "      <td>Eukaryota;Alveolata;Dinoflagellata;Dinophyceae...</td>\n",
       "      <td>Tripos_fusus</td>\n",
       "      <td>CM</td>\n",
       "    </tr>\n",
       "    <tr>\n",
       "      <th>contig_999839_3_1073_+</th>\n",
       "      <td>Eukaryota;Alveolata;Dinoflagellata;Dinophyceae...</td>\n",
       "      <td>Protoceratium_reticulatum</td>\n",
       "      <td>CM</td>\n",
       "    </tr>\n",
       "    <tr>\n",
       "      <th>contig_999891_1_612_+</th>\n",
       "      <td>Eukaryota;Alveolata;Dinoflagellata;Dinophyceae...</td>\n",
       "      <td>Symbiodinium_sp</td>\n",
       "      <td>CM</td>\n",
       "    </tr>\n",
       "    <tr>\n",
       "      <th>contig_999899_1_1167_+</th>\n",
       "      <td>Eukaryota;Alveolata;Dinoflagellata;Dinophyceae...</td>\n",
       "      <td>Symbiodinium_sp</td>\n",
       "      <td>CM</td>\n",
       "    </tr>\n",
       "    <tr>\n",
       "      <th>contig_99991_1_291_-</th>\n",
       "      <td>Eukaryota;Alveolata;Dinoflagellata;Dinophyceae...</td>\n",
       "      <td>Heterocapsa_rotundata</td>\n",
       "      <td>CM</td>\n",
       "    </tr>\n",
       "  </tbody>\n",
       "</table>\n",
       "<p>105144 rows × 3 columns</p>\n",
       "</div>"
      ],
      "text/plain": [
       "                                                               LPI_taxonomy  \\\n",
       "ORFID                                                                         \n",
       "contig_1000023_1_765_+    Eukaryota;Alveolata;Dinoflagellata;Dinophyceae...   \n",
       "contig_1000075_283_834_-  Eukaryota;Alveolata;Dinoflagellata;Dinophyceae...   \n",
       "contig_1000084_83_955_-   Eukaryota;Alveolata;Dinoflagellata;Dinophyceae...   \n",
       "contig_1000086_1_198_-    Eukaryota;Alveolata;Dinoflagellata;Dinophyceae...   \n",
       "contig_100012_350_1123_+  Eukaryota;Alveolata;Dinoflagellata;Dinophyceae...   \n",
       "...                                                                     ...   \n",
       "contig_999836_1_276_+     Eukaryota;Alveolata;Dinoflagellata;Dinophyceae...   \n",
       "contig_999839_3_1073_+    Eukaryota;Alveolata;Dinoflagellata;Dinophyceae...   \n",
       "contig_999891_1_612_+     Eukaryota;Alveolata;Dinoflagellata;Dinophyceae...   \n",
       "contig_999899_1_1167_+    Eukaryota;Alveolata;Dinoflagellata;Dinophyceae...   \n",
       "contig_99991_1_291_-      Eukaryota;Alveolata;Dinoflagellata;Dinophyceae...   \n",
       "\n",
       "                                 most_specific_name MFT  \n",
       "ORFID                                                    \n",
       "contig_1000023_1_765_+       Lingulodinium_polyedra  CM  \n",
       "contig_1000075_283_834_-        Gonyaulax_spinifera  CM  \n",
       "contig_1000084_83_955_-         Gonyaulax_spinifera  CM  \n",
       "contig_1000086_1_198_-          Gonyaulax_spinifera  CM  \n",
       "contig_100012_350_1123_+      Gymnodinium_catenatum  CM  \n",
       "...                                             ...  ..  \n",
       "contig_999836_1_276_+                  Tripos_fusus  CM  \n",
       "contig_999839_3_1073_+    Protoceratium_reticulatum  CM  \n",
       "contig_999891_1_612_+               Symbiodinium_sp  CM  \n",
       "contig_999899_1_1167_+              Symbiodinium_sp  CM  \n",
       "contig_99991_1_291_-          Heterocapsa_rotundata  CM  \n",
       "\n",
       "[105144 rows x 3 columns]"
      ]
     },
     "execution_count": 6,
     "metadata": {},
     "output_type": "execute_result"
    }
   ],
   "source": [
    "orf_taxo_mft_polyA.loc[orf_taxo_mft_polyA.apply(\n",
    "    lambda row: row[\"MFT\"] == \"CM\" and \"Dinoflagellata\" in row[\"LPI_taxonomy\"], axis = 1\n",
    ")]"
   ]
  },
  {
   "cell_type": "code",
   "execution_count": 32,
   "id": "a0c64ade-ea0f-42c0-8f45-dd0dc5e6c968",
   "metadata": {},
   "outputs": [],
   "source": [
    "##These are the old pr2 system. There's no \"TSAR\" supergroup category.\n",
    "class_level = 3\n",
    "class_labels_polyA = orf_taxo_mft_polyA[\"LPI_taxonomy\"].apply(lambda x: x.split(\";\")[:class_level][-1]).unique()\n",
    "class_label_counts_polyA = pd.Series([0] * len(class_labels_polyA), index = class_labels_polyA)\n",
    "\n",
    "class_labels_total = orf_taxo_mft_total[\"LPI_taxonomy\"].apply(lambda x: x.split(\";\")[:class_level][-1]).unique()\n",
    "class_label_counts_total = pd.Series([0] * len(class_labels_total), index = class_labels_total)\n",
    "\n",
    "#go through and fill tallies, can barh (y = index, width = value)\n",
    "for taxon in orf_taxo_mft_polyA[\"LPI_taxonomy\"]:\n",
    "    label = taxon.split(\";\")[:class_level][-1]\n",
    "    class_label_counts_polyA[label] += 1\n",
    "for taxon in orf_taxo_mft_total[\"LPI_taxonomy\"]:\n",
    "    label = taxon.split(\";\")[:class_level][-1]\n",
    "    class_label_counts_total[label] += 1"
   ]
  },
  {
   "cell_type": "code",
   "execution_count": 33,
   "id": "ac8e6891-1e3b-4628-ab58-541a1a46acdf",
   "metadata": {},
   "outputs": [],
   "source": [
    "class_label_counts_polyA = class_label_counts_polyA.sort_values(ascending = False)\n",
    "class_label_counts_total = class_label_counts_total.sort_values(ascending = False)"
   ]
  },
  {
   "cell_type": "code",
   "execution_count": 37,
   "id": "e374c76f-4f08-4a91-874f-2f9d73624c0a",
   "metadata": {},
   "outputs": [
    {
     "data": {
      "image/png": "[encoded data removed]",
      "text/plain": [
       "<Figure size 1200x800 with 2 Axes>"
      ]
     },
     "metadata": {},
     "output_type": "display_data"
    }
   ],
   "source": [
    "fig, ax = plt.subplots(1,2)\n",
    "fig.set_figheight(8)\n",
    "fig.set_figwidth(12)\n",
    "top_x = 30\n",
    "ax[0].bar(x=class_label_counts_polyA.index[:top_x], height = class_label_counts_polyA[:top_x])\n",
    "ax[1].bar(x=class_label_counts_total.index[:top_x], height = class_label_counts_total[:top_x])\n",
    "ax[0].tick_params(axis='x', labelrotation=90)\n",
    "ax[1].tick_params(axis='x', labelrotation=90)\n",
    "plt.show()"
   ]
  },
  {
   "cell_type": "markdown",
   "id": "b0a1229b",
   "metadata": {},
   "source": [
    "**CM distribution of ORF counts**\n",
    "\n",
    "will likely confirm that dinos have the most transcripts."
   ]
  },
  {
   "cell_type": "code",
   "execution_count": 34,
   "id": "969cd2f5",
   "metadata": {},
   "outputs": [],
   "source": [
    "import pandas as pd\n",
    "import numpy as np"
   ]
  },
  {
   "cell_type": "code",
   "execution_count": null,
   "id": "8e57a0bb",
   "metadata": {},
   "outputs": [],
   "source": [
    "\"\"\"reading in the pr2 taxonomies - this file has no index column\"\"\"\n",
    "\n",
    "pr2_taxonomies = pd.read_csv(\"pr2_version_5.0.0_taxonomy.tsv\", sep = \"\\t\", header = 0)"
   ]
  },
  {
   "cell_type": "code",
   "execution_count": null,
   "id": "a2bc5da1",
   "metadata": {},
   "outputs": [],
   "source": [
    "#might throw in the MDB species which pr2 doesn't include for whatever reason.\n",
    "mixo_mask = [type(item) == str for item in pr2_taxonomies[\"mixoplankton\"]]\n",
    "#\"domain\" is obvious, also want to get rid of plastid sequences...? are they polyA\n",
    "mixo_species = pr2_taxonomies.loc[mixo_mask, \"species\"]\n",
    "mixo_species = mixo_species[ [item.find(\":plas\") == -1 for item in mixo_species] ]\n",
    "\n",
    "mixo_species.to_csv(\"01_out_pr2_mixo_species.tsv\", sep=\"\\t\", header=False, index=False)\n",
    "#taxonomic_levels = pr2_taxonomies.columns[1:9]\n",
    "#mixo_taxonomies = pr2_taxonomies.loc[mixo_mask, taxonomic_levels]"
   ]
  },
  {
   "cell_type": "code",
   "execution_count": null,
   "id": "a7dac710",
   "metadata": {},
   "outputs": [],
   "source": [
    "from search_mixo_species import search_species #so that this imports the latest version of \"mixo_species\""
   ]
  },
  {
   "cell_type": "markdown",
   "id": "6341c26a",
   "metadata": {},
   "source": [
    "**Match species to PR2 mixodatabase - shouldn't accept any matches that don't go down to species level.**"
   ]
  },
  {
   "cell_type": "code",
   "execution_count": 27,
   "id": "a6c5ac7e",
   "metadata": {},
   "outputs": [
    {
     "data": {
      "text/plain": [
       "True"
      ]
     },
     "execution_count": 27,
     "metadata": {},
     "output_type": "execute_result"
    }
   ],
   "source": [
    "mixo_species[(mixo_species.str.contains(\"Durinskia\"))]\n",
    "not mixo_species[(mixo_species.str.contains(\"Geminigera\"))].empty\n",
    "\"Durinskia_capensis\" in mixo_species.values"
   ]
  },
  {
   "cell_type": "code",
   "execution_count": 4,
   "id": "d0409ed8",
   "metadata": {},
   "outputs": [],
   "source": [
    "#since phylodb lpi taxonomy seems to follow pr2 conventions...\n",
    "def search_taxonomy(taxonomy):\n",
    "    taxons = taxonomy.split(\";\")\n",
    "    most_specific_name = taxons[-1]\n",
    "    #start with the most specific name and work backward\n",
    "    for level in taxonomic_levels[::-1]:\n",
    "        if most_specific_name in mixo_taxonomies[level]:\n",
    "            return True\n",
    "\n",
    "#format is nonstandard. pr2 can only match the first two terms anyways. make sure they're cleaned of commas, etc.\n",
    "        \n",
    "#Eukaryota;Archaeplastida;Chlorophyta;Nephroselmidophyceae;Nephroselmidophyceae_X;Nephroselmidaceae;Nephroselmis;Nephroselmis pyriformis, Strain CCMP717\n",
    "#Eukaryota;Opisthokonta;Metazoa;Arthropoda;Hexapoda;Insecta;Acyrthosiphon;Acyrthosiphon pisum\n",
    "#Eukaryota;Stramenopiles;Stramenopiles_X;Bacillariophyta;Bacillariophyta_X;Polar-centric-Mediophyceae;Thalassiosira;Thalassiosira oceanica CCMP1005\n"
   ]
  },
  {
   "cell_type": "code",
   "execution_count": 35,
   "id": "79fed1c1",
   "metadata": {},
   "outputs": [
    {
     "name": "stdout",
     "output_type": "stream",
     "text": [
      "Phaeocystis_antarctica\n"
     ]
    },
    {
     "data": {
      "text/plain": [
       "False"
      ]
     },
     "execution_count": 35,
     "metadata": {},
     "output_type": "execute_result"
    }
   ],
   "source": [
    "#search_species(\"Eukaryota;Archaeplastida;Chlorophyta;Nephroselmidophyceae;Nephroselmidophyceae_X;Nephroselmidaceae;Nephroselmis;Nephroselmis pyriformis, Strain CCMP717\", debug = True)\n",
    "#search_species(\"Eukaryota;Stramenopiles;Stramenopiles_X;Bacillariophyta;Bacillariophyta_X;Polar-centric-Mediophyceae;Thalassiosira;Thalassiosira oceanica CCMP1005\", debug = True)\n",
    "#search_species(\"Eukaryota;Opisthokonta;Metazoa;Arthropoda;Hexapoda;Insecta;Acyrthosiphon;Acyrthosiphon pisum\", debug = True)\n",
    "#search_species(\"Eukaryota;Hacrobia;Haptophyta;Prymnesiophyceae;Isochrysidales;Noelaerhabdaceae;Emiliania;Emiliania huxleyi 374\", debug=True)\n",
    "#search_species(\"Eukaryota;Hacrobia;Haptophyta;Prymnesiophyceae;Isochrysidales;Noelaerhabdaceae;Emiliania;Emiliania huxleyi CCMP1516\", debug=True)\n",
    "#search_species(\"Eukaryota;Hacrobia;Haptophyta;Prymnesiophyceae;Isochrysidales;Noelaerhabdaceae;Emiliania;Emiliania huxleyi CCMP370\", debug=True)\n",
    "search_species(\"Eukaryota;Hacrobia;Haptophyta;Prymnesiophyceae;Phaeocystales;Phaeocystaceae;Phaeocystis;Phaeocystis antarctica, Strain CCMP1374\", debug=True)"
   ]
  },
  {
   "cell_type": "code",
   "execution_count": 6,
   "id": "ca97e691",
   "metadata": {},
   "outputs": [
    {
     "data": {
      "text/plain": [
       "9410    Phaeocystis_globosa\n",
       "Name: species, dtype: object"
      ]
     },
     "execution_count": 6,
     "metadata": {},
     "output_type": "execute_result"
    }
   ],
   "source": [
    "mixo_species[mixo_species.str.contains(\"Phaeocystis\")]"
   ]
  },
  {
   "cell_type": "code",
   "execution_count": 7,
   "id": "ba52d7e4",
   "metadata": {},
   "outputs": [
    {
     "name": "stdout",
     "output_type": "stream",
     "text": [
      "['NR0557', 'NR0558\\n']\n",
      "['See\\n', 'ya\\n']\n"
     ]
    }
   ],
   "source": [
    "with open(\"annotation_all.filtered.orfhits.tab\", \"r\") as file:\n",
    "    print(file.readline().split(\"\\t\")[-2:])"
   ]
  },
  {
   "cell_type": "code",
   "execution_count": 36,
   "id": "ac52bed2",
   "metadata": {},
   "outputs": [],
   "source": [
    "#not that many mixo sequences, might be able to keep the orf_ids in memory. make them a set then use them to \n",
    "#filter rows of tpm file.\n",
    "\n",
    "#modify this code to generate annotation file: this doesn't have to have the same row ordering as the counts file.\n",
    "\n",
    "mixo_orfs = set()\n",
    "with open(\"annotation_all.tab\", \"r\") as infile:\n",
    "    with open(\"01_out_mixo_orfs_annotations.tsv\", \"w\") as outfile:\n",
    "        #transfer the first line's column labels to outfile\n",
    "        col_labels = infile.readline().split(\"\\t\")\n",
    "        annotation_labels = col_labels[:37]\n",
    "        assert(annotation_labels[36] == \"LPI_taxonomy\")\n",
    "        outfile.write(\"\\t\".join(annotation_labels) + \"\\n\")\n",
    "        \n",
    "        #moving on to data rows\n",
    "        for line in infile: \n",
    "            terms = line.split(\"\\t\") #includes annotations and read counts\n",
    "            annotation_terms = terms[:37] #drop read counts\n",
    "            orf_id = annotation_terms[0]\n",
    "            lpi_taxonomy = annotation_terms[36]\n",
    "            #if lpi_taxonomy == \"\" or \"Spike\" in orf_id:\n",
    "            if \"Eukaryota\" not in lpi_taxonomy:\n",
    "                continue #no point looking here: either taxonomy unresolved or not eukaryotic\n",
    "            #if taxonomy is eukaryotic:\n",
    "            if search_species(lpi_taxonomy):\n",
    "                #what's the most useful output? a one-line long string that R script can use to index?\n",
    "                #or a long column that strsplit can make into a vector or list of strings?\n",
    "                mixo_orfs.add(orf_id)\n",
    "                #count += 1\n",
    "                outfile.write(\"\\t\".join(annotation_terms) + \"\\n\")"
   ]
  },
  {
   "cell_type": "code",
   "execution_count": 37,
   "id": "90439683",
   "metadata": {},
   "outputs": [
    {
     "data": {
      "text/plain": [
       "324726"
      ]
     },
     "execution_count": 37,
     "metadata": {},
     "output_type": "execute_result"
    }
   ],
   "source": [
    "len(mixo_orfs) #342726 expected"
   ]
  },
  {
   "cell_type": "code",
   "execution_count": null,
   "id": "f5a9ef24",
   "metadata": {},
   "outputs": [],
   "source": [
    "assert(False)"
   ]
  },
  {
   "cell_type": "code",
   "execution_count": null,
   "id": "636eb182",
   "metadata": {},
   "outputs": [],
   "source": [
    "#so now it needs them to be integers\n",
    "#Error in aldex.clr.function(reads, conds, mc.samples, denom, verbose,  : \n",
    "#  not all reads are integers\n",
    "with open(\"annotation_all.filtered.orfhits.tab\") as infile:\n",
    "    with open(\"01_out_mixo_orfs_rawcounts.tsv\", \"w\") as outfile:\n",
    "        #print the first line\n",
    "        outfile.write(infile.readline())\n",
    "        \n",
    "        for line in infile:\n",
    "            #['\"Spike8\"'], need to strip the quotemarks from both sides\n",
    "            orf_id = line.split(\"\\t\")[0].strip(\"\\\"\")\n",
    "            #print([orf_id])\n",
    "            if orf_id in mixo_orfs:\n",
    "                outfile.write(line)\n",
    "                \n",
    "#filtering probably leads to less ASVs, i think it's fine. run this now and try w/ unclustered asvs later if needed."
   ]
  },
  {
   "cell_type": "code",
   "execution_count": null,
   "id": "7666aae1",
   "metadata": {},
   "outputs": [],
   "source": [
    "%%bash\n",
    "wc -l 01_out_mixo_orfs_rawcounts.tsv"
   ]
  },
  {
   "cell_type": "code",
   "execution_count": null,
   "id": "3b661494",
   "metadata": {},
   "outputs": [],
   "source": []
  }
 ],
 "metadata": {
  "kernelspec": {
   "display_name": "Python 3 (ipykernel)",
   "language": "python",
   "name": "python3"
  },
  "language_info": {
   "codemirror_mode": {
    "name": "ipython",
    "version": 3
   },
   "file_extension": ".py",
   "mimetype": "text/x-python",
   "name": "python",
   "nbconvert_exporter": "python",
   "pygments_lexer": "ipython3",
   "version": "3.9.18"
  }
 },
 "nbformat": 4,
 "nbformat_minor": 5
}
