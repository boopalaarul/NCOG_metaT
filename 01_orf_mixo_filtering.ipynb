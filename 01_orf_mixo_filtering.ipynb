{
 "cells": [
  {
   "cell_type": "markdown",
   "id": "c54dbcab",
   "metadata": {},
   "source": [
    "**NOAA CalCOFI Genomics (NCOG) MetaT - Filtering ORFs belonging to Mixoplankton**\n",
    "\n",
    "Definition of mixoplankton, [Mitra et al 2023](https://onlinelibrary.wiley.com/doi/10.1111/jeu.12972?s=03): eukaryotes that can perform\n",
    "- photoautotrophy through constitutive (native to cell) photosynthetic machinery or machinery acquired from prey \n",
    "- osmoheterotrophy (taking in nutrients dissolved solution including necessary carbon)\n",
    "- phagotrophy (taking in machinery and material from prey cells, by variety of feeding methods-- engulfing whole cells, sticking a feeding tube into them, lysing them with toxic metabolites)\n",
    "\n",
    "Input files for analysis: \n",
    "1. pr2_version_5.0.0_taxonomy.tsv - Nine domain system and names for all 53k+ species represented in the PR2 database. Can use for taking taxonomic names from the other files and converting them to standardized nine-name taxonomy objects to check matching/equality.\n",
    "- also contains a \"mixoplankton\" column. use this to filter out all non-mixos.\n",
    "\n",
    "2. annotation_all.tab - Pratap Venepally's annotation of ORF gene function and taxonomy. Important column: LPI_taxonomy.\n",
    "\n",
    "**Which file to use as input??**\n",
    "\n",
    "These are different files with different sizes. Do they also have different contig annotations?\n",
    "- /tscc/projects/ps-allenlab/archdata/pratap/NCOG/PolyA_rnaseq/RAP_analysis_042022/annotation_042022/annotation_all.tab (4G)\n",
    "- /tscc/projects/ps-allenlab/archdata/pratap/NCOG/NCOG_RNASeq_merged_2014-2018-2019-2020_assemblies/merge_2014-18_2019_2020_assemblies/annotation_all.tab (15G)\n",
    "\n",
    "The first file is for polyA RNA only, the latter file is total RNA. These correspond to \n",
    "- archdata/zfussy/RAP_runs/NCOG_totalRNA/annotation_all.tab (15G)\n",
    "- archdata/zfussy/RAP_runs/NCOG_polyA/annotation_042022/annotation_all.tab (4G)\n",
    "\n",
    "So are the annotations the same between each category? Yes (diff on the files producs below confirms)\n",
    "\n",
    "`awk '{ print $1 }' /tscc/projects/ps-allenlab/archdata/pratap/NCOG/PolyA_rnaseq/RAP_analysis_042022/annotation_042022/annotation_all.tab > _contignames_pratap_polyA`\n",
    "\n",
    "`awk '{ print $1 }' /tscc/projects/ps-allenlab/archdata/pratap/NCOG/NCOG_RNASeq_merged_2014-2018-2019-2020_assemblies/merge_2014-18_2019_2020_assemblies/annotation_all.tab > _contignames_pratap_total`\n",
    "\n",
    "`awk '{ print $1 }' /tscc/projects/ps-allenlab/archdata/zfussy/RAP_runs/NCOG_polyA/annotation_042022/annotation_all.tab > _contignames_zoltan_polyA`\n",
    "\n",
    "`awk '{ print $1 }' /tscc/projects/ps-allenlab/archdata/zfussy/RAP_runs/NCOG_totalRNA/annotation_all.tab > _contignames_zoltan_total`\n",
    "\n",
    "Why are they different across categories; if so, why (is it because it maps only slightly different places during each search)\n",
    "\n",
    "**Don't know! but now can return to notebook 6 and use the new annotations, if it's the same abundances nothing else will have changed (next time can run the aldex analysis on polyA only)**"
   ]
  },
  {
   "cell_type": "code",
   "execution_count": 1,
   "id": "4878fbfa",
   "metadata": {},
   "outputs": [
    {
     "data": {
      "text/html": [
       "<div>\n",
       "<style scoped>\n",
       "    .dataframe tbody tr th:only-of-type {\n",
       "        vertical-align: middle;\n",
       "    }\n",
       "\n",
       "    .dataframe tbody tr th {\n",
       "        vertical-align: top;\n",
       "    }\n",
       "\n",
       "    .dataframe thead th {\n",
       "        text-align: right;\n",
       "    }\n",
       "</style>\n",
       "<table border=\"1\" class=\"dataframe\">\n",
       "  <thead>\n",
       "    <tr style=\"text-align: right;\">\n",
       "      <th></th>\n",
       "      <th>orf_id</th>\n",
       "    </tr>\n",
       "  </thead>\n",
       "  <tbody>\n",
       "    <tr>\n",
       "      <th>0</th>\n",
       "      <td>Spike1</td>\n",
       "    </tr>\n",
       "    <tr>\n",
       "      <th>1</th>\n",
       "      <td>Spike8</td>\n",
       "    </tr>\n",
       "    <tr>\n",
       "      <th>2</th>\n",
       "      <td>contig_1000000_1_675_-</td>\n",
       "    </tr>\n",
       "    <tr>\n",
       "      <th>3</th>\n",
       "      <td>contig_1000001_3_1871_-</td>\n",
       "    </tr>\n",
       "    <tr>\n",
       "      <th>4</th>\n",
       "      <td>contig_1000002_1_828_+</td>\n",
       "    </tr>\n",
       "    <tr>\n",
       "      <th>...</th>\n",
       "      <td>...</td>\n",
       "    </tr>\n",
       "    <tr>\n",
       "      <th>5043563</th>\n",
       "      <td>contig_999996_3_278_-</td>\n",
       "    </tr>\n",
       "    <tr>\n",
       "      <th>5043564</th>\n",
       "      <td>contig_99999_2_418_-</td>\n",
       "    </tr>\n",
       "    <tr>\n",
       "      <th>5043565</th>\n",
       "      <td>contig_99999_895_1068_+</td>\n",
       "    </tr>\n",
       "    <tr>\n",
       "      <th>5043566</th>\n",
       "      <td>contig_99_2_127_+</td>\n",
       "    </tr>\n",
       "    <tr>\n",
       "      <th>5043567</th>\n",
       "      <td>contig_9_331_6075_+</td>\n",
       "    </tr>\n",
       "  </tbody>\n",
       "</table>\n",
       "<p>5043568 rows × 1 columns</p>\n",
       "</div>"
      ],
      "text/plain": [
       "                          orf_id\n",
       "0                         Spike1\n",
       "1                         Spike8\n",
       "2         contig_1000000_1_675_-\n",
       "3        contig_1000001_3_1871_-\n",
       "4         contig_1000002_1_828_+\n",
       "...                          ...\n",
       "5043563    contig_999996_3_278_-\n",
       "5043564     contig_99999_2_418_-\n",
       "5043565  contig_99999_895_1068_+\n",
       "5043566        contig_99_2_127_+\n",
       "5043567      contig_9_331_6075_+\n",
       "\n",
       "[5043568 rows x 1 columns]"
      ]
     },
     "execution_count": 1,
     "metadata": {},
     "output_type": "execute_result"
    }
   ],
   "source": [
    "import pandas as pd\n",
    "contig_names_polyA = pd.read_csv(\"_contignames_pratap_polyA\")\n",
    "contig_names_total = pd.read_csv(\"_contignames_pratap_total\")\n",
    "contig_names_polyA"
   ]
  },
  {
   "cell_type": "code",
   "execution_count": 8,
   "id": "cfda7483",
   "metadata": {},
   "outputs": [
    {
     "data": {
      "text/html": [
       "<div>\n",
       "<style scoped>\n",
       "    .dataframe tbody tr th:only-of-type {\n",
       "        vertical-align: middle;\n",
       "    }\n",
       "\n",
       "    .dataframe tbody tr th {\n",
       "        vertical-align: top;\n",
       "    }\n",
       "\n",
       "    .dataframe thead th {\n",
       "        text-align: right;\n",
       "    }\n",
       "</style>\n",
       "<table border=\"1\" class=\"dataframe\">\n",
       "  <thead>\n",
       "    <tr style=\"text-align: right;\">\n",
       "      <th></th>\n",
       "      <th>orf_id</th>\n",
       "    </tr>\n",
       "  </thead>\n",
       "  <tbody>\n",
       "    <tr>\n",
       "      <th>9346245</th>\n",
       "      <td>NCOG_2014-18.contig_999990_1174_1953_+</td>\n",
       "    </tr>\n",
       "    <tr>\n",
       "      <th>9346246</th>\n",
       "      <td>NCOG_2014-18.contig_999990_1_1104_-</td>\n",
       "    </tr>\n",
       "    <tr>\n",
       "      <th>11841523</th>\n",
       "      <td>NCOG_2020.contig_999990_1_198_-</td>\n",
       "    </tr>\n",
       "    <tr>\n",
       "      <th>11841524</th>\n",
       "      <td>NCOG_2020.contig_999990_208_441_+</td>\n",
       "    </tr>\n",
       "  </tbody>\n",
       "</table>\n",
       "</div>"
      ],
      "text/plain": [
       "                                          orf_id\n",
       "9346245   NCOG_2014-18.contig_999990_1174_1953_+\n",
       "9346246      NCOG_2014-18.contig_999990_1_1104_-\n",
       "11841523         NCOG_2020.contig_999990_1_198_-\n",
       "11841524       NCOG_2020.contig_999990_208_441_+"
      ]
     },
     "execution_count": 8,
     "metadata": {},
     "output_type": "execute_result"
    }
   ],
   "source": [
    "contig_names_total[contig_names_total[\"orf_id\"].str.contains(\"contig_999990\")]"
   ]
  },
  {
   "cell_type": "code",
   "execution_count": 9,
   "id": "a0681fdb",
   "metadata": {},
   "outputs": [
    {
     "data": {
      "text/html": [
       "<div>\n",
       "<style scoped>\n",
       "    .dataframe tbody tr th:only-of-type {\n",
       "        vertical-align: middle;\n",
       "    }\n",
       "\n",
       "    .dataframe tbody tr th {\n",
       "        vertical-align: top;\n",
       "    }\n",
       "\n",
       "    .dataframe thead th {\n",
       "        text-align: right;\n",
       "    }\n",
       "</style>\n",
       "<table border=\"1\" class=\"dataframe\">\n",
       "  <thead>\n",
       "    <tr style=\"text-align: right;\">\n",
       "      <th></th>\n",
       "      <th>orf_id</th>\n",
       "    </tr>\n",
       "  </thead>\n",
       "  <tbody>\n",
       "    <tr>\n",
       "      <th>5043555</th>\n",
       "      <td>contig_999990_165_239_+</td>\n",
       "    </tr>\n",
       "    <tr>\n",
       "      <th>5043556</th>\n",
       "      <td>contig_999990_1_138_+</td>\n",
       "    </tr>\n",
       "  </tbody>\n",
       "</table>\n",
       "</div>"
      ],
      "text/plain": [
       "                          orf_id\n",
       "5043555  contig_999990_165_239_+\n",
       "5043556    contig_999990_1_138_+"
      ]
     },
     "execution_count": 9,
     "metadata": {},
     "output_type": "execute_result"
    }
   ],
   "source": [
    "contig_names_polyA[contig_names_polyA[\"orf_id\"].str.contains(\"contig_999990\")]"
   ]
  },
  {
   "cell_type": "code",
   "execution_count": 11,
   "id": "04406ef1",
   "metadata": {},
   "outputs": [
    {
     "data": {
      "text/plain": [
       "(233, 779)"
      ]
     },
     "execution_count": 11,
     "metadata": {},
     "output_type": "execute_result"
    }
   ],
   "source": []
  },
  {
   "cell_type": "markdown",
   "id": "b0a1229b",
   "metadata": {},
   "source": [
    "**Preprocessing**\n",
    "\n",
    "data frames and helper functions for accessing data for figures & tests\n",
    "\n",
    "field format for NCOG data, [NCOG line/station key](https://calcofi.org/sampling-info/station-positions/): [On daily noon stations and cardinal stations (lines 80 and 90; see map), RNA and DNA seawater samples are collected from 10m and the depth of the chlorophyll maximum (i.e. the depth of highest chlorophyll-a concentration, which varies from station to station). RNA is also sampled from 170 m and 515 m where possible.](https://calcofi.org/data/marine-ecosystem-data/e-dna/)\n",
    "- X201402_086.7_033.0_10\n",
    "    - X\\[YYYY\\]\\[MM\\]_\\[line number\\]_\\[station number\\]_\\[depth, either 10m or deep Chl maximum\\]\n",
    " \n",
    "In the NCOG dataset there are 34,498 ASVs found across 1195 samples (different times, locations, depths) and classified by 4 different classifiers."
   ]
  },
  {
   "cell_type": "code",
   "execution_count": 34,
   "id": "969cd2f5",
   "metadata": {},
   "outputs": [],
   "source": [
    "import pandas as pd\n",
    "import numpy as np"
   ]
  },
  {
   "cell_type": "code",
   "execution_count": null,
   "id": "8e57a0bb",
   "metadata": {},
   "outputs": [],
   "source": [
    "\"\"\"reading in the pr2 taxonomies - this file has no index column\"\"\"\n",
    "\n",
    "pr2_taxonomies = pd.read_csv(\"pr2_version_5.0.0_taxonomy.tsv\", sep = \"\\t\", header = 0)"
   ]
  },
  {
   "cell_type": "code",
   "execution_count": null,
   "id": "a2bc5da1",
   "metadata": {},
   "outputs": [],
   "source": [
    "#might throw in the MDB species which pr2 doesn't include for whatever reason.\n",
    "mixo_mask = [type(item) == str for item in pr2_taxonomies[\"mixoplankton\"]]\n",
    "#\"domain\" is obvious, also want to get rid of plastid sequences...? are they polyA\n",
    "mixo_species = pr2_taxonomies.loc[mixo_mask, \"species\"]\n",
    "mixo_species = mixo_species[ [item.find(\":plas\") == -1 for item in mixo_species] ]\n",
    "\n",
    "mixo_species.to_csv(\"01_out_pr2_mixo_species.tsv\", sep=\"\\t\", header=False, index=False)\n",
    "#taxonomic_levels = pr2_taxonomies.columns[1:9]\n",
    "#mixo_taxonomies = pr2_taxonomies.loc[mixo_mask, taxonomic_levels]"
   ]
  },
  {
   "cell_type": "code",
   "execution_count": null,
   "id": "a7dac710",
   "metadata": {},
   "outputs": [],
   "source": [
    "from search_mixo_species import search_species #so that this imports the latest version of \"mixo_species\""
   ]
  },
  {
   "cell_type": "markdown",
   "id": "6341c26a",
   "metadata": {},
   "source": [
    "**Match species to PR2 mixodatabase - shouldn't accept any matches that don't go down to species level.**"
   ]
  },
  {
   "cell_type": "code",
   "execution_count": 27,
   "id": "a6c5ac7e",
   "metadata": {},
   "outputs": [
    {
     "data": {
      "text/plain": [
       "True"
      ]
     },
     "execution_count": 27,
     "metadata": {},
     "output_type": "execute_result"
    }
   ],
   "source": [
    "mixo_species[(mixo_species.str.contains(\"Durinskia\"))]\n",
    "not mixo_species[(mixo_species.str.contains(\"Geminigera\"))].empty\n",
    "\"Durinskia_capensis\" in mixo_species.values"
   ]
  },
  {
   "cell_type": "code",
   "execution_count": 4,
   "id": "d0409ed8",
   "metadata": {},
   "outputs": [],
   "source": [
    "#since phylodb lpi taxonomy seems to follow pr2 conventions...\n",
    "def search_taxonomy(taxonomy):\n",
    "    taxons = taxonomy.split(\";\")\n",
    "    most_specific_name = taxons[-1]\n",
    "    #start with the most specific name and work backward\n",
    "    for level in taxonomic_levels[::-1]:\n",
    "        if most_specific_name in mixo_taxonomies[level]:\n",
    "            return True\n",
    "\n",
    "#format is nonstandard. pr2 can only match the first two terms anyways. make sure they're cleaned of commas, etc.\n",
    "        \n",
    "#Eukaryota;Archaeplastida;Chlorophyta;Nephroselmidophyceae;Nephroselmidophyceae_X;Nephroselmidaceae;Nephroselmis;Nephroselmis pyriformis, Strain CCMP717\n",
    "#Eukaryota;Opisthokonta;Metazoa;Arthropoda;Hexapoda;Insecta;Acyrthosiphon;Acyrthosiphon pisum\n",
    "#Eukaryota;Stramenopiles;Stramenopiles_X;Bacillariophyta;Bacillariophyta_X;Polar-centric-Mediophyceae;Thalassiosira;Thalassiosira oceanica CCMP1005\n"
   ]
  },
  {
   "cell_type": "code",
   "execution_count": 35,
   "id": "79fed1c1",
   "metadata": {},
   "outputs": [
    {
     "name": "stdout",
     "output_type": "stream",
     "text": [
      "Phaeocystis_antarctica\n"
     ]
    },
    {
     "data": {
      "text/plain": [
       "False"
      ]
     },
     "execution_count": 35,
     "metadata": {},
     "output_type": "execute_result"
    }
   ],
   "source": [
    "#search_species(\"Eukaryota;Archaeplastida;Chlorophyta;Nephroselmidophyceae;Nephroselmidophyceae_X;Nephroselmidaceae;Nephroselmis;Nephroselmis pyriformis, Strain CCMP717\", debug = True)\n",
    "#search_species(\"Eukaryota;Stramenopiles;Stramenopiles_X;Bacillariophyta;Bacillariophyta_X;Polar-centric-Mediophyceae;Thalassiosira;Thalassiosira oceanica CCMP1005\", debug = True)\n",
    "#search_species(\"Eukaryota;Opisthokonta;Metazoa;Arthropoda;Hexapoda;Insecta;Acyrthosiphon;Acyrthosiphon pisum\", debug = True)\n",
    "#search_species(\"Eukaryota;Hacrobia;Haptophyta;Prymnesiophyceae;Isochrysidales;Noelaerhabdaceae;Emiliania;Emiliania huxleyi 374\", debug=True)\n",
    "#search_species(\"Eukaryota;Hacrobia;Haptophyta;Prymnesiophyceae;Isochrysidales;Noelaerhabdaceae;Emiliania;Emiliania huxleyi CCMP1516\", debug=True)\n",
    "#search_species(\"Eukaryota;Hacrobia;Haptophyta;Prymnesiophyceae;Isochrysidales;Noelaerhabdaceae;Emiliania;Emiliania huxleyi CCMP370\", debug=True)\n",
    "search_species(\"Eukaryota;Hacrobia;Haptophyta;Prymnesiophyceae;Phaeocystales;Phaeocystaceae;Phaeocystis;Phaeocystis antarctica, Strain CCMP1374\", debug=True)"
   ]
  },
  {
   "cell_type": "code",
   "execution_count": 6,
   "id": "ca97e691",
   "metadata": {},
   "outputs": [
    {
     "data": {
      "text/plain": [
       "9410    Phaeocystis_globosa\n",
       "Name: species, dtype: object"
      ]
     },
     "execution_count": 6,
     "metadata": {},
     "output_type": "execute_result"
    }
   ],
   "source": [
    "mixo_species[mixo_species.str.contains(\"Phaeocystis\")]"
   ]
  },
  {
   "cell_type": "code",
   "execution_count": 7,
   "id": "ba52d7e4",
   "metadata": {},
   "outputs": [
    {
     "name": "stdout",
     "output_type": "stream",
     "text": [
      "['NR0557', 'NR0558\\n']\n",
      "['See\\n', 'ya\\n']\n"
     ]
    }
   ],
   "source": [
    "with open(\"annotation_all.filtered.orfhits.tab\", \"r\") as file:\n",
    "    print(file.readline().split(\"\\t\")[-2:])"
   ]
  },
  {
   "cell_type": "code",
   "execution_count": 36,
   "id": "ac52bed2",
   "metadata": {},
   "outputs": [],
   "source": [
    "#not that many mixo sequences, might be able to keep the orf_ids in memory. make them a set then use them to \n",
    "#filter rows of tpm file.\n",
    "\n",
    "#modify this code to generate annotation file: this doesn't have to have the same row ordering as the counts file.\n",
    "\n",
    "mixo_orfs = set()\n",
    "with open(\"annotation_all.tab\", \"r\") as infile:\n",
    "    with open(\"01_out_mixo_orfs_annotations.tsv\", \"w\") as outfile:\n",
    "        #transfer the first line's column labels to outfile\n",
    "        col_labels = infile.readline().split(\"\\t\")\n",
    "        annotation_labels = col_labels[:37]\n",
    "        assert(annotation_labels[36] == \"LPI_taxonomy\")\n",
    "        outfile.write(\"\\t\".join(annotation_labels) + \"\\n\")\n",
    "        \n",
    "        #moving on to data rows\n",
    "        for line in infile: \n",
    "            terms = line.split(\"\\t\") #includes annotations and read counts\n",
    "            annotation_terms = terms[:37] #drop read counts\n",
    "            orf_id = annotation_terms[0]\n",
    "            lpi_taxonomy = annotation_terms[36]\n",
    "            #if lpi_taxonomy == \"\" or \"Spike\" in orf_id:\n",
    "            if \"Eukaryota\" not in lpi_taxonomy:\n",
    "                continue #no point looking here: either taxonomy unresolved or not eukaryotic\n",
    "            #if taxonomy is eukaryotic:\n",
    "            if search_species(lpi_taxonomy):\n",
    "                #what's the most useful output? a one-line long string that R script can use to index?\n",
    "                #or a long column that strsplit can make into a vector or list of strings?\n",
    "                mixo_orfs.add(orf_id)\n",
    "                #count += 1\n",
    "                outfile.write(\"\\t\".join(annotation_terms) + \"\\n\")"
   ]
  },
  {
   "cell_type": "code",
   "execution_count": 37,
   "id": "90439683",
   "metadata": {},
   "outputs": [
    {
     "data": {
      "text/plain": [
       "324726"
      ]
     },
     "execution_count": 37,
     "metadata": {},
     "output_type": "execute_result"
    }
   ],
   "source": [
    "len(mixo_orfs) #342726 expected"
   ]
  },
  {
   "cell_type": "code",
   "execution_count": null,
   "id": "f5a9ef24",
   "metadata": {},
   "outputs": [],
   "source": [
    "assert(False)"
   ]
  },
  {
   "cell_type": "code",
   "execution_count": null,
   "id": "636eb182",
   "metadata": {},
   "outputs": [],
   "source": [
    "#so now it needs them to be integers\n",
    "#Error in aldex.clr.function(reads, conds, mc.samples, denom, verbose,  : \n",
    "#  not all reads are integers\n",
    "with open(\"annotation_all.filtered.orfhits.tab\") as infile:\n",
    "    with open(\"01_out_mixo_orfs_rawcounts.tsv\", \"w\") as outfile:\n",
    "        #print the first line\n",
    "        outfile.write(infile.readline())\n",
    "        \n",
    "        for line in infile:\n",
    "            #['\"Spike8\"'], need to strip the quotemarks from both sides\n",
    "            orf_id = line.split(\"\\t\")[0].strip(\"\\\"\")\n",
    "            #print([orf_id])\n",
    "            if orf_id in mixo_orfs:\n",
    "                outfile.write(line)\n",
    "                \n",
    "#filtering probably leads to less ASVs, i think it's fine. run this now and try w/ unclustered asvs later if needed."
   ]
  },
  {
   "cell_type": "code",
   "execution_count": null,
   "id": "7666aae1",
   "metadata": {},
   "outputs": [],
   "source": [
    "%%bash\n",
    "wc -l 01_out_mixo_orfs_rawcounts.tsv"
   ]
  },
  {
   "cell_type": "code",
   "execution_count": null,
   "id": "3b661494",
   "metadata": {},
   "outputs": [],
   "source": []
  }
 ],
 "metadata": {
  "kernelspec": {
   "display_name": "Python 3 (ipykernel)",
   "language": "python",
   "name": "python3"
  },
  "language_info": {
   "codemirror_mode": {
    "name": "ipython",
    "version": 3
   },
   "file_extension": ".py",
   "mimetype": "text/x-python",
   "name": "python",
   "nbconvert_exporter": "python",
   "pygments_lexer": "ipython3",
   "version": "3.8.15"
  }
 },
 "nbformat": 4,
 "nbformat_minor": 5
}
